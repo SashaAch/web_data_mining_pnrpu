{
 "cells": [
  {
   "cell_type": "code",
   "execution_count": 21,
   "metadata": {
    "collapsed": true,
    "pycharm": {
     "name": "#%%\n"
    }
   },
   "outputs": [
    {
     "name": "stdout",
     "output_type": "stream",
     "text": [
      "Общее количество результатов для ИТАС на сайтах pstu.ru, 59.ru, perm.kp.ru, perm.rbc.ru, properm.ru: 5640\n"
     ]
    }
   ],
   "source": [
    "from serpapi import GoogleSearch\n",
    "\n",
    "def get_search_results_count(query_terms, sites, api_key):\n",
    "    # Формирование строки запроса с использованием различных форм названия и сайтов\n",
    "    query_terms_string = ' OR '.join(f'\"{term}\"' for term in query_terms) if len(query_terms) > 1 else query_terms[0]\n",
    "    sites_string = ' OR '.join(f'site:*{site}' for site in sites) if len(sites) > 1 else sites[0]\n",
    "    query = f\"{query_terms_string} {sites_string}\"\n",
    "\n",
    "    # print(query)\n",
    "    params = {\n",
    "        \"engine\": \"google\",\n",
    "        \"q\": query,\n",
    "        \"google_domain\": \"google.ru\",\n",
    "        \"gl\": \"ru\",\n",
    "        \"hl\": \"ru\",\n",
    "        \"api_key\": api_key\n",
    "    }\n",
    "\n",
    "    search = GoogleSearch(params)\n",
    "    results = search.get_dict()\n",
    "    return results.get(\"search_information\", {}).get(\"total_results\")\n",
    "\n",
    "# Список терминов для поиска (включая разные формы названия)\n",
    "search_terms = [\n",
    "    \"ИТАС\",\n",
    "    # \"Кафедра Информационных технологий и автоматизированных систем\", # с этими запросами результатов меньше ~4500\n",
    "    # \"Кафедры Информационных технологий и автоматизированных систем\", #\n",
    "]\n",
    "# Список сайтов для поиска\n",
    "sites_to_search = [\"pstu.ru\", \"59.ru\", \"perm.kp.ru\", \"perm.rbc.ru\", \"properm.ru\"]\n",
    "\n",
    "api_key = ''\n",
    "total_results = get_search_results_count(search_terms, sites_to_search, api_key)\n",
    "\n",
    "print(f\"Общее количество результатов для {', '.join(search_terms)} на сайтах {', '.join(sites_to_search)}: {total_results}\")"
   ]
  },
  {
   "cell_type": "code",
   "execution_count": null,
   "outputs": [],
   "source": [],
   "metadata": {
    "collapsed": false,
    "pycharm": {
     "name": "#%%\n"
    }
   }
  }
 ],
 "metadata": {
  "kernelspec": {
   "display_name": "Python 3",
   "language": "python",
   "name": "python3"
  },
  "language_info": {
   "codemirror_mode": {
    "name": "ipython",
    "version": 2
   },
   "file_extension": ".py",
   "mimetype": "text/x-python",
   "name": "python",
   "nbconvert_exporter": "python",
   "pygments_lexer": "ipython2",
   "version": "2.7.6"
  }
 },
 "nbformat": 4,
 "nbformat_minor": 0
}
