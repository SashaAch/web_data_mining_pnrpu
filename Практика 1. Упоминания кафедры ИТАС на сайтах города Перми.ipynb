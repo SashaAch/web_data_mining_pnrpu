{
 "cells": [
  {
   "cell_type": "code",
   "execution_count": 5,
   "metadata": {
    "collapsed": true,
    "pycharm": {
     "name": "#%%\n"
    }
   },
   "outputs": [
    {
     "name": "stdout",
     "output_type": "stream",
     "text": [
      "Общее количество результатов: 5580\n"
     ]
    }
   ],
   "source": [
    "from serpapi import GoogleSearch\n",
    "\n",
    "# Поисковый запрос\n",
    "search_query = \"ИТАС\"\n",
    "# Сайт для поиска\n",
    "site_to_search = \"site:*pstu.ru\"\n",
    "\n",
    "def get_search_results_count(query, site, api_key):\n",
    "    params = {\n",
    "        \"engine\": \"google\",\n",
    "        \"q\": f\"{query} {site}\",\n",
    "        \"google_domain\": \"google.ru\",\n",
    "        \"gl\": \"ru\",\n",
    "        \"hl\": \"ru\",\n",
    "        \"api_key\": api_key\n",
    "    }\n",
    "\n",
    "    search = GoogleSearch(params)\n",
    "    results = search.get_dict()\n",
    "    return results.get(\"search_information\", {}).get(\"total_results\")\n",
    "\n",
    "\n",
    "api_key = ''\n",
    "total_results = get_search_results_count(search_query, site_to_search, api_key)\n",
    "\n",
    "print(f\"Общее количество результатов: {total_results}\")\n"
   ]
  },
  {
   "cell_type": "code",
   "execution_count": null,
   "outputs": [],
   "source": [],
   "metadata": {
    "collapsed": false,
    "pycharm": {
     "name": "#%%\n"
    }
   }
  }
 ],
 "metadata": {
  "kernelspec": {
   "display_name": "Python 3",
   "language": "python",
   "name": "python3"
  },
  "language_info": {
   "codemirror_mode": {
    "name": "ipython",
    "version": 2
   },
   "file_extension": ".py",
   "mimetype": "text/x-python",
   "name": "python",
   "nbconvert_exporter": "python",
   "pygments_lexer": "ipython2",
   "version": "2.7.6"
  }
 },
 "nbformat": 4,
 "nbformat_minor": 0
}
